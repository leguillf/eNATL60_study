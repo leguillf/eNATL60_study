{
 "cells": [
  {
   "cell_type": "code",
   "execution_count": 4,
   "metadata": {},
   "outputs": [],
   "source": [
    "myPath = '/Users/leguillou/WORK/Developpement/'"
   ]
  },
  {
   "cell_type": "markdown",
   "metadata": {},
   "source": [
    "## Packages"
   ]
  },
  {
   "cell_type": "code",
   "execution_count": 14,
   "metadata": {},
   "outputs": [],
   "source": [
    "import numpy as np\n",
    "import netCDF4 as nc\n",
    "import os,fnmatch\n",
    "import xarray as xr\n",
    "import pandas as pd "
   ]
  },
  {
   "cell_type": "markdown",
   "metadata": {},
   "source": [
    "## Parameters"
   ]
  },
  {
   "cell_type": "code",
   "execution_count": 21,
   "metadata": {},
   "outputs": [],
   "source": [
    "dir_data = myPath + 'DATA/eNATL60/merged_outputs/'\n",
    "file_data = 'eNATL60_GULFSTREAM_SSH.1h_y2009m10d01_y2009m12d31.nc'\n",
    "name_time = 'time_counter'\n",
    "name_lon = 'nav_lon'\n",
    "name_lat = 'nav_lat'\n",
    "name_var = 'sossheig'"
   ]
  },
  {
   "cell_type": "code",
   "execution_count": 22,
   "metadata": {},
   "outputs": [],
   "source": [
    "dir_out = myPath + 'DATA/eNATL60/hourly_outputs/'\n",
    "prefixe_outputs = 'eNATL60_GULFSTREAM_SSH'"
   ]
  },
  {
   "cell_type": "markdown",
   "metadata": {},
   "source": [
    "## Read data"
   ]
  },
  {
   "cell_type": "code",
   "execution_count": 54,
   "metadata": {},
   "outputs": [],
   "source": [
    "ds = xr.open_mfdataset(dir_data+file_data)\n",
    "times = ds[name_time]\n",
    "lon = ds[name_lon]\n",
    "lat = ds[name_lat]\n",
    "var = ds[name_var]\n",
    "NT,NY,NX = var.shape"
   ]
  },
  {
   "cell_type": "markdown",
   "metadata": {},
   "source": [
    "## Split data by time"
   ]
  },
  {
   "cell_type": "code",
   "execution_count": 56,
   "metadata": {},
   "outputs": [],
   "source": [
    "for t in range(NT):\n",
    "    ts = pd.to_datetime(str(times[t].values)) \n",
    "    d = ts.strftime('y%Ym%md%dh%H')\n",
    "    output_name = dir_out+prefixe_outputs+'_'+d+'.nc'\n",
    "    # Write output\n",
    "    ncout = nc.Dataset(output_name, 'w', format='NETCDF4_CLASSIC')\n",
    "    ncout.createDimension('time', 1)\n",
    "    ncout.createDimension('y', NY)\n",
    "    ncout.createDimension('x', NX)\n",
    "    nctime = ncout.createVariable(name_time, 'f', ('time'))\n",
    "    nclon = ncout.createVariable(name_lon, 'f', ('y','x'))\n",
    "    nclat = ncout.createVariable(name_lat, 'f', ('y','x'))\n",
    "    ncvar = ncout.createVariable(name_var, 'f', ('time','y','x'))\n",
    "    nctime[:] = times[t].astype('datetime64[s]').astype('int')\n",
    "    nctime.units = 'UNIX timestamp'\n",
    "    nclon[:,:] = lon\n",
    "    nclat[:,:] = lat\n",
    "    ncvar[:,:,:] = var[t,:,:]\n",
    "    ncout.close()\n",
    "    \n",
    "    "
   ]
  }
 ],
 "metadata": {
  "kernelspec": {
   "display_name": "Python 3",
   "language": "python",
   "name": "python3"
  },
  "language_info": {
   "codemirror_mode": {
    "name": "ipython",
    "version": 3
   },
   "file_extension": ".py",
   "mimetype": "text/x-python",
   "name": "python",
   "nbconvert_exporter": "python",
   "pygments_lexer": "ipython3",
   "version": "3.7.1"
  }
 },
 "nbformat": 4,
 "nbformat_minor": 4
}
