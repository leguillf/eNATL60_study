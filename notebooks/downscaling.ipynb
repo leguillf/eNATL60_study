{
 "cells": [
  {
   "cell_type": "code",
   "execution_count": 14,
   "metadata": {},
   "outputs": [],
   "source": [
    "import netCDF4 as nc\n",
    "import numpy as np\n",
    "from skimage.transform import downscale_local_mean"
   ]
  },
  {
   "cell_type": "code",
   "execution_count": 11,
   "metadata": {},
   "outputs": [],
   "source": [
    "myPath = '/Users/leguillou/WORK/Developpement/'\n",
    "dir_data =  myPath + \"DATA/eNATL60/merged_outputs/hourly/\"\n",
    "dir_output = myPath + \"DATA/eNATL60/merged_outputs/hourly/\"\n",
    "filename_data = \"eNATL60_GULFSTREAM_SSH.1h_y2009m07d01_y2010m06d30.nc\""
   ]
  },
  {
   "cell_type": "code",
   "execution_count": 35,
   "metadata": {},
   "outputs": [
    {
     "name": "stdout",
     "output_type": "stream",
     "text": [
      "eNATL60_GULFSTREAM_SSH.1h_y2009m07d01_y2010m06d30_degraded20.nc\n"
     ]
    }
   ],
   "source": [
    "fact = 3\n",
    "\n",
    "res = int(60/fact)\n",
    "\n",
    "file_output = filename_data[:-3] + '_degraded' + str(res) + '.nc'\n",
    "\n",
    "print(file_output)\n"
   ]
  },
  {
   "cell_type": "code",
   "execution_count": 8,
   "metadata": {},
   "outputs": [],
   "source": [
    "ncin = nc.Dataset(dir_data+filename_data)\n",
    "times = np.float64(ncin.variables['time_counter'][:]) \n",
    "lon = np.float64(ncin.variables['nav_lon'][:,:]) % 360\n",
    "lat = np.float64(ncin.variables['nav_lat'][:,:]) \n",
    "ssh = ncin.variables['sossheig'][:,:,:]\n"
   ]
  },
  {
   "cell_type": "code",
   "execution_count": 9,
   "metadata": {},
   "outputs": [],
   "source": [
    "dlon = lon[0,1] - lon[0,0]\n",
    "dlat = lat[1,0] - lat[0,0]\n",
    "lon_down = lon[::fact,::fact] + (fact-1)/2*dlon\n",
    "lat_down = lat[::fact,::fact] + (fact-1)/2*dlat\n",
    "NY,NX = lon_down.shape\n",
    "NT = times.size\n"
   ]
  },
  {
   "cell_type": "code",
   "execution_count": 39,
   "metadata": {},
   "outputs": [],
   "source": [
    "ncout = nc.Dataset(dir_output + file_output, 'w', format='NETCDF4_CLASSIC')\n",
    "ncout.createDimension('time', NT)\n",
    "ncout.createDimension('y', NY)\n",
    "ncout.createDimension('x', NX)\n",
    "nctime = ncout.createVariable('time', 'f', ('time',))\n",
    "nctime.units = ncin.variables['time_counter'].units\n",
    "nclon = ncout.createVariable('nav_lon', 'f', ('y','x'))\n",
    "nclat = ncout.createVariable('nav_lat', 'f', ('y','x'))\n",
    "nctime[:] = times\n",
    "nclon[:,:] = lon_down\n",
    "nclat[:,:] = lat_down\n",
    "ncssh = ncout.createVariable('degraded_sossheig', 'f', ('time','y','x'))\n",
    "for t in range(NT):\n",
    "    ncssh[t,:,:] = downscale_local_mean(ssh[t],(fact,fact))\n",
    "ncout.close()\n"
   ]
  }
 ],
 "metadata": {
  "kernelspec": {
   "display_name": "Python 3",
   "language": "python",
   "name": "python3"
  },
  "language_info": {
   "codemirror_mode": {
    "name": "ipython",
    "version": 3
   },
   "file_extension": ".py",
   "mimetype": "text/x-python",
   "name": "python",
   "nbconvert_exporter": "python",
   "pygments_lexer": "ipython3",
   "version": "3.7.5"
  }
 },
 "nbformat": 4,
 "nbformat_minor": 4
}
